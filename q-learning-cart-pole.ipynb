{
  "nbformat": 4,
  "nbformat_minor": 0,
  "metadata": {
    "colab": {
      "provenance": []
    },
    "kernelspec": {
      "name": "python3",
      "display_name": "Python 3"
    },
    "language_info": {
      "name": "python"
    }
  },
  "cells": [
    {
      "cell_type": "markdown",
      "source": [
        "# CZ3005 Assignment 1: Balancing a Pole on a Cart"
      ],
      "metadata": {
        "id": "kr-MG2aAPFcf"
      }
    },
    {
      "cell_type": "markdown",
      "source": [
        "\n",
        "## Installing Dependencies"
      ],
      "metadata": {
        "id": "nVEMMT7NO2cZ"
      }
    },
    {
      "cell_type": "code",
      "source": [
        "!apt-get install -y xvfb python-opengl > /dev/null 2>&1\n",
        "!pip install gym pyvirtualdisplay > /dev/null 2>&1\n",
        "!apt-get install -y xvfb python-opengl ffmpeg > /dev/null 2>&1\n",
        "!pip install gym[classic_control]\n",
        "!apt-get update > /dev/null 2>&1\n",
        "!apt-get install cmake > /dev/null 2>&1\n",
        "!pip install --upgrade setuptools 2>&1\n",
        "!pip install ez_setup > /dev/null 2>&1"
      ],
      "metadata": {
        "colab": {
          "base_uri": "https://localhost:8080/"
        },
        "id": "TCWj8Pa-GL24",
        "outputId": "77b6bf55-d6fb-4183-91b9-ddebd4c0f018"
      },
      "execution_count": null,
      "outputs": [
        {
          "output_type": "stream",
          "name": "stdout",
          "text": [
            "Looking in indexes: https://pypi.org/simple, https://us-python.pkg.dev/colab-wheels/public/simple/\n",
            "Requirement already satisfied: gym[classic_control] in /usr/local/lib/python3.9/dist-packages (0.25.2)\n",
            "Requirement already satisfied: cloudpickle>=1.2.0 in /usr/local/lib/python3.9/dist-packages (from gym[classic_control]) (2.2.1)\n",
            "Requirement already satisfied: importlib-metadata>=4.8.0 in /usr/local/lib/python3.9/dist-packages (from gym[classic_control]) (6.1.0)\n",
            "Requirement already satisfied: gym-notices>=0.0.4 in /usr/local/lib/python3.9/dist-packages (from gym[classic_control]) (0.0.8)\n",
            "Requirement already satisfied: numpy>=1.18.0 in /usr/local/lib/python3.9/dist-packages (from gym[classic_control]) (1.22.4)\n",
            "Requirement already satisfied: pygame==2.1.0 in /usr/local/lib/python3.9/dist-packages (from gym[classic_control]) (2.1.0)\n",
            "Requirement already satisfied: zipp>=0.5 in /usr/local/lib/python3.9/dist-packages (from importlib-metadata>=4.8.0->gym[classic_control]) (3.15.0)\n",
            "Looking in indexes: https://pypi.org/simple, https://us-python.pkg.dev/colab-wheels/public/simple/\n",
            "Requirement already satisfied: setuptools in /usr/local/lib/python3.9/dist-packages (67.6.0)\n"
          ]
        }
      ]
    },
    {
      "cell_type": "markdown",
      "source": [
        "## Importing Dependencies"
      ],
      "metadata": {
        "id": "cJywPrAyO93c"
      }
    },
    {
      "cell_type": "code",
      "execution_count": null,
      "metadata": {
        "id": "UauPiXXHyeTR"
      },
      "outputs": [],
      "source": [
        "import gym\n",
        "from gym import logger as gymlogger\n",
        "from gym.wrappers import RecordVideo\n",
        "gymlogger.set_level(40) #error only\n",
        "import tensorflow as tf\n",
        "import numpy as np\n",
        "import random\n",
        "import matplotlib\n",
        "import matplotlib.pyplot as plt\n",
        "%matplotlib inline\n",
        "import math\n",
        "import glob\n",
        "import io\n",
        "import base64\n",
        "from IPython.display import HTML"
      ]
    },
    {
      "cell_type": "markdown",
      "source": [
        "## Defining Parameters"
      ],
      "metadata": {
        "id": "y4YCDs2JRKyr"
      }
    },
    {
      "cell_type": "code",
      "source": [
        "# Learning Rate\n",
        "ALPHA = 0.05\n",
        "\n",
        "# Discount Factor\n",
        "GAMMA = 0.99\n",
        "\n",
        "# Epsilon Decay\n",
        "EPSILON_DECAY = 0.9997\n",
        "\n",
        "# Number of Episodes\n",
        "NUM_EPISODES = 30000\n",
        "\n",
        "# Q-table size\n",
        "CART_POS_N = 30\n",
        "CART_VEL_N = 30\n",
        "POLE_ANGLE_N = 30\n",
        "POLE_OMEGA_N = 30\n",
        "\n",
        "# Define Lower & Upper Bound\n",
        "STATE_UPPER_BOUND = np.array([4.8, 4.0, 0.418, 4.0])\n",
        "STATE_LOWER_BOUND = np.array([-4.8, -4.0, -0.418, -4.0])"
      ],
      "metadata": {
        "id": "ebV7x5qby7Qx"
      },
      "execution_count": null,
      "outputs": []
    },
    {
      "cell_type": "markdown",
      "source": [
        "## Environment Setup"
      ],
      "metadata": {
        "id": "sbn0xS_ZRXYl"
      }
    },
    {
      "cell_type": "code",
      "source": [
        "# Initialize OpenAI CartPole\n",
        "env = gym.make('CartPole-v1')\n",
        "\n",
        "# Initialize Q-table\n",
        "q_table = np.random.uniform(low=-1, high=1, size=(CART_POS_N, CART_VEL_N, POLE_ANGLE_N, POLE_OMEGA_N, env.action_space.n))"
      ],
      "metadata": {
        "id": "I0SxyTCiRatK"
      },
      "execution_count": null,
      "outputs": []
    },
    {
      "cell_type": "markdown",
      "source": [
        "## Defining Helper Functions"
      ],
      "metadata": {
        "id": "h3ULxki9PXmY"
      }
    },
    {
      "cell_type": "code",
      "source": [
        "def discretize(state):\n",
        "    normalized = (state - STATE_LOWER_BOUND) / (STATE_UPPER_BOUND - STATE_LOWER_BOUND)\n",
        "    discrete_state = np.clip(normalized, 0, 0.999) * np.array([CART_POS_N, CART_VEL_N, POLE_ANGLE_N, POLE_OMEGA_N])\n",
        "    return tuple(discrete_state.astype(int))\n",
        "\n",
        "def rl_agent(state):\n",
        "    return np.argmax(q_table[state])\n",
        "\n",
        "def get_video():\n",
        "    # get video list\n",
        "    mp4list = glob.glob('video/*.mp4')\n",
        "\n",
        "    if len(mp4list) > 0:\n",
        "        # get video data\n",
        "        mp4 = mp4list[0]\n",
        "        video = io.open(mp4, 'r+b').read()\n",
        "        encoded = base64.b64encode(video)\n",
        "        data = '''{0}'''.format(encoded.decode('ascii'))\n",
        "\n",
        "        # format html\n",
        "        return HTML('''\n",
        "        <video alt=\"CartPole RL Agent\" controls>\n",
        "          <source type=\"video/mp4\" src=\"data:video/mp4;base64,{0}\">\n",
        "        </video>\n",
        "        '''.format(data))\n",
        "\n",
        "    else:\n",
        "      print(\"Could not find video\")"
      ],
      "metadata": {
        "id": "Dqavf3P3yvQ4"
      },
      "execution_count": null,
      "outputs": []
    },
    {
      "cell_type": "markdown",
      "source": [
        "## Task 1: Development of an RL agent"
      ],
      "metadata": {
        "id": "KqP4L1DfSaz3"
      }
    },
    {
      "cell_type": "markdown",
      "source": [
        "Run Q-learning Algorithm to populate Q-table"
      ],
      "metadata": {
        "id": "mYV_eZI1Zhzo"
      }
    },
    {
      "cell_type": "code",
      "source": [
        "epsilon = 1.0\n",
        "episode_rewards = []\n",
        "\n",
        "for episode in range(NUM_EPISODES):\n",
        "    # Reset environment for new episode\n",
        "    observation = env.reset()\n",
        "    state = discretize(observation)\n",
        "    # Reset variables\n",
        "    cumulative_reward = 0\n",
        "    steps_count = 0\n",
        "    done = False\n",
        "\n",
        "    # Stop when reaching end state or an episode length of 500\n",
        "    while not done and steps_count < 500:\n",
        "        # Use Epsilon-Greedy Action Selection to balance exploration and exploitation\n",
        "        if np.random.rand() < epsilon:\n",
        "            action = env.action_space.sample()\n",
        "        else:\n",
        "            action = rl_agent(state)\n",
        "\n",
        "        # Perform action\n",
        "        observation, reward, done, info = env.step(action)\n",
        "        state_next = discretize(observation)\n",
        "        cumulative_reward += reward\n",
        "        steps_count += 1\n",
        "\n",
        "        # Update Q-table\n",
        "        q_table[state][action] = (1 - ALPHA) * q_table[state][action] + ALPHA * (reward + GAMMA * np.max(q_table[state_next]))\n",
        "        state = state_next\n",
        "\n",
        "    # Update Epsilon\n",
        "    epsilon *= EPSILON_DECAY\n",
        "\n",
        "    if (episode + 1) % 1000 == 0:\n",
        "        print(f\"Episode: {episode + 1}\")\n",
        "        print(f\"Reward: {cumulative_reward}\")\n",
        "        print(f\"Epsilon: {epsilon}\")\n",
        "        print()\n",
        "\n",
        "    # Save cumulative reward\n",
        "    episode_rewards.append(cumulative_reward)\n",
        "  \n",
        "plt.plot(episode_rewards)\n",
        "plt.title('Cumulative reward for each episode')\n",
        "plt.ylabel('Cumulative Reward')\n",
        "plt.xlabel('Episode')"
      ],
      "metadata": {
        "colab": {
          "base_uri": "https://localhost:8080/",
          "height": 1000
        },
        "id": "D-9eoe2Ly9r-",
        "outputId": "bbe41678-be6c-4c58-ae2d-8583b49666c6"
      },
      "execution_count": null,
      "outputs": [
        {
          "output_type": "stream",
          "name": "stdout",
          "text": [
            "Episode: 1000\n",
            "Reward: 24.0\n",
            "Epsilon: 0.7407848779433163\n",
            "\n",
            "Episode: 2000\n",
            "Reward: 36.0\n",
            "Epsilon: 0.5487622353894926\n",
            "\n",
            "Episode: 3000\n",
            "Reward: 51.0\n",
            "Epsilon: 0.40651476556290533\n",
            "\n",
            "Episode: 4000\n",
            "Reward: 141.0\n",
            "Epsilon: 0.3011399909896719\n",
            "\n",
            "Episode: 5000\n",
            "Reward: 323.0\n",
            "Epsilon: 0.22307995146913462\n",
            "\n",
            "Episode: 6000\n",
            "Reward: 134.0\n",
            "Epsilon: 0.1652542546206636\n",
            "\n",
            "Episode: 7000\n",
            "Reward: 259.0\n",
            "Epsilon: 0.12241785283878157\n",
            "\n",
            "Episode: 8000\n",
            "Reward: 237.0\n",
            "Epsilon: 0.09068529417325935\n",
            "\n",
            "Episode: 9000\n",
            "Reward: 500.0\n",
            "Epsilon: 0.06717829457539158\n",
            "\n",
            "Episode: 10000\n",
            "Reward: 277.0\n",
            "Epsilon: 0.04976466474747149\n",
            "\n",
            "Episode: 11000\n",
            "Reward: 141.0\n",
            "Epsilon: 0.03686491110084566\n",
            "\n",
            "Episode: 12000\n",
            "Reward: 500.0\n",
            "Epsilon: 0.027308968670231117\n",
            "\n",
            "Episode: 13000\n",
            "Reward: 500.0\n",
            "Epsilon: 0.02023007102313499\n",
            "\n",
            "Episode: 14000\n",
            "Reward: 500.0\n",
            "Epsilon: 0.014986130693657639\n",
            "\n",
            "Episode: 15000\n",
            "Reward: 500.0\n",
            "Epsilon: 0.011101498996743729\n",
            "\n",
            "Episode: 16000\n",
            "Reward: 500.0\n",
            "Epsilon: 0.008223822579290642\n",
            "\n",
            "Episode: 17000\n",
            "Reward: 500.0\n",
            "Epsilon: 0.006092083405627285\n",
            "\n",
            "Episode: 18000\n",
            "Reward: 500.0\n",
            "Epsilon: 0.004512923262058104\n",
            "\n",
            "Episode: 19000\n",
            "Reward: 500.0\n",
            "Epsilon: 0.0033431053078512634\n",
            "\n",
            "Episode: 20000\n",
            "Reward: 500.0\n",
            "Epsilon: 0.002476521857428244\n",
            "\n",
            "Episode: 21000\n",
            "Reward: 500.0\n",
            "Epsilon: 0.0018345699418789315\n",
            "\n",
            "Episode: 22000\n",
            "Reward: 500.0\n",
            "Epsilon: 0.0013590216704732606\n",
            "\n",
            "Episode: 23000\n",
            "Reward: 500.0\n",
            "Epsilon: 0.0010067427022838551\n",
            "\n",
            "Episode: 24000\n",
            "Reward: 188.0\n",
            "Epsilon: 0.0007457797698316665\n",
            "\n",
            "Episode: 25000\n",
            "Reward: 500.0\n",
            "Epsilon: 0.0005524623757673444\n",
            "\n",
            "Episode: 26000\n",
            "Reward: 500.0\n",
            "Epsilon: 0.00040925577360108605\n",
            "\n",
            "Episode: 27000\n",
            "Reward: 500.0\n",
            "Epsilon: 0.0003031704882946775\n",
            "\n",
            "Episode: 28000\n",
            "Reward: 500.0\n",
            "Epsilon: 0.00022458411316738768\n",
            "\n",
            "Episode: 29000\n",
            "Reward: 500.0\n",
            "Epsilon: 0.0001663685148607109\n",
            "\n",
            "Episode: 30000\n",
            "Reward: 500.0\n",
            "Epsilon: 0.00012324327997470175\n",
            "\n"
          ]
        },
        {
          "output_type": "execute_result",
          "data": {
            "text/plain": [
              "Text(0.5, 0, 'Episode')"
            ]
          },
          "metadata": {},
          "execution_count": 6
        },
        {
          "output_type": "display_data",
          "data": {
            "text/plain": [
              "<Figure size 432x288 with 1 Axes>"
            ],
            "image/png": "[encoded data removed]"
          },
          "metadata": {
            "needs_background": "light"
          }
        }
      ]
    },
    {
      "cell_type": "markdown",
      "source": [
        "## Task 2: Demonstrate the effectiveness of the RL agent"
      ],
      "metadata": {
        "id": "SrQjmTvYZsCW"
      }
    },
    {
      "cell_type": "code",
      "source": [
        "episode_rewards = []\n",
        "\n",
        "for episode in range(100):\n",
        "    # Reset environment for new episode\n",
        "    observation = env.reset()\n",
        "    state = discretize(observation)\n",
        "    # Reset variables\n",
        "    cumulative_reward = 0\n",
        "    steps_count = 0\n",
        "    done = False\n",
        "\n",
        "    # Stop when reaching end state or an episode length of 500\n",
        "    while not done and steps_count < 500:\n",
        "        # Perform action\n",
        "        action = rl_agent(state)\n",
        "        observation, reward, done, info = env.step(action)\n",
        "        state = discretize(observation)\n",
        "        cumulative_reward += reward\n",
        "        steps_count += 1\n",
        "\n",
        "    # Save cumulative reward\n",
        "    episode_rewards.append(cumulative_reward)\n",
        "\n",
        "plt.plot(episode_rewards)\n",
        "plt.title('Cumulative reward for each episode')\n",
        "plt.ylabel('Cumulative Reward')\n",
        "plt.xlabel('Episode')\n",
        "print(f\"Average Reward: {np.average(episode_rewards)}\")"
      ],
      "metadata": {
        "colab": {
          "base_uri": "https://localhost:8080/",
          "height": 313
        },
        "id": "FhLDArR-fxOl",
        "outputId": "5c28a0f1-0dc6-48ed-d06f-c1a75612186a"
      },
      "execution_count": null,
      "outputs": [
        {
          "output_type": "stream",
          "name": "stdout",
          "text": [
            "Average Reward: 500.0\n"
          ]
        },
        {
          "output_type": "display_data",
          "data": {
            "text/plain": [
              "<Figure size 432x288 with 1 Axes>"
            ],
            "image/png": "[encoded data removed]"
          },
          "metadata": {
            "needs_background": "light"
          }
        }
      ]
    },
    {
      "cell_type": "markdown",
      "source": [
        "## Task 3: Render one episode played by the developed RL agent"
      ],
      "metadata": {
        "id": "ZSc6cLYzZ7HK"
      }
    },
    {
      "cell_type": "markdown",
      "source": [
        "Record one episode played by the developed RL agent and save it to `./video` directory"
      ],
      "metadata": {
        "id": "mISlUh5RaZ0p"
      }
    },
    {
      "cell_type": "code",
      "source": [
        "# Initialize Environment\n",
        "env = RecordVideo(gym.make(\"CartPole-v1\"), \"./video\")\n",
        "observation = env.reset()\n",
        "state = discretize(observation)\n",
        "\n",
        "# Play one episode\n",
        "cumulative_reward = 0\n",
        "while True:\n",
        "    env.render()\n",
        "    action = rl_agent(state)\n",
        "    observation, reward, done, info = env.step(action)\n",
        "    state = discretize(observation)\n",
        "    cumulative_reward += reward\n",
        "    if done:\n",
        "        break\n",
        "print(f\"Reward: {cumulative_reward}\")\n",
        "env.close()"
      ],
      "metadata": {
        "id": "lCLT97nPzEww",
        "colab": {
          "base_uri": "https://localhost:8080/"
        },
        "outputId": "2892fb8d-e2c5-4192-df1e-4320fcb352c2"
      },
      "execution_count": null,
      "outputs": [
        {
          "output_type": "stream",
          "name": "stdout",
          "text": [
            "Reward: 500.0\n"
          ]
        }
      ]
    },
    {
      "cell_type": "markdown",
      "source": [
        "Display the recorded video as HTML"
      ],
      "metadata": {
        "id": "DHVeSL8vbPea"
      }
    },
    {
      "cell_type": "code",
      "source": [
        "# get video html\n",
        "video = get_video()\n",
        "from IPython import display\n",
        "display.display(video)"
      ],
      "metadata": {
        "colab": {
          "base_uri": "https://localhost:8080/",
          "height": 421
        },
        "id": "mZYE8y_-VaS7",
        "outputId": "9df45aa4-cfa1-4edd-ba86-493f359c54a9"
      },
      "execution_count": null,
      "outputs": [
        {
          "output_type": "display_data",
          "data": {
            "text/plain": [
              "<IPython.core.display.HTML object>"
            ],
            "text/html": [
              "\n",
              "        <video alt=\"CartPole RL Agent\" controls>\n",
              "          <source type=\"video/mp4\" src=\"data:video/mp4;base64,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\">\n",
              "        </video>\n",
              "        "
            ]
          },
          "metadata": {}
        }
      ]
    }
  ]
}